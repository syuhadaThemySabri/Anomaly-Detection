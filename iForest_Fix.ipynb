{
  "cells": [
    {
      "cell_type": "code",
      "execution_count": 9,
      "metadata": {
        "id": "Lz27szCHCiAt"
      },
      "outputs": [],
      "source": [
        "import pandas as pd\n",
        "import numpy as np\n",
        "import matplotlib.pyplot as plt\n",
        "import seaborn as sns\n",
        "from sklearn.ensemble import IsolationForest\n",
        "from sklearn.preprocessing import StandardScaler\n",
        "import warnings\n",
        "warnings.filterwarnings('ignore')"
      ]
    },
    {
      "cell_type": "code",
      "execution_count": 10,
      "metadata": {
        "id": "-3l0T6_bC3hk"
      },
      "outputs": [],
      "source": [
        "data = pd.read_csv('D:\\College\\Semester 6 (Magang)\\Model\\Anomaly Detection\\clean_data.csv')"
      ]
    },
    {
      "cell_type": "code",
      "execution_count": 11,
      "metadata": {
        "id": "gJCde3WSCnCi"
      },
      "outputs": [],
      "source": [
        "def preprocess_turbine_data(data):\n",
        "    \"\"\"\n",
        "    Preprocess the turbine data for anomaly detection\n",
        "    \"\"\"\n",
        "    # Convert timestamp and create time features\n",
        "    data['Timestamp'] = pd.to_datetime(data['Timestamp'], utc=True)\n",
        "\n",
        "    # Create time-based features\n",
        "    data['Hour'] = data['Timestamp'].dt.hour\n",
        "    data['Day'] = data['Timestamp'].dt.day\n",
        "    data['Month'] = data['Timestamp'].dt.month\n",
        "    data['Weekday'] = data['Timestamp'].dt.weekday\n",
        "\n",
        "    # Calculate rolling statistics for each feature\n",
        "    feature_columns = ['Ngp', 'Npt', 'HPC_ASV_Command', 'HPC_ASV_Position',\n",
        "                      'HPC_Surge_Margin', 'HPC_ASC_Flow_DP', 'HPC_Suction_Press',\n",
        "                      'HPC_Discharge_Press']\n",
        "\n",
        "    # Convert features to numeric\n",
        "    for col in feature_columns:\n",
        "        data[col] = pd.to_numeric(data[col], errors='coerce')\n",
        "\n",
        "    # Calculate rolling means and standard deviations\n",
        "    window_size = 24  # 24-hour window\n",
        "    for col in feature_columns:\n",
        "        data[f'{col}_rolling_mean'] = data[col].rolling(window=window_size).mean()\n",
        "        data[f'{col}_rolling_std'] = data[col].rolling(window=window_size).std()\n",
        "\n",
        "    return data.dropna()"
      ]
    },
    {
      "cell_type": "code",
      "execution_count": 12,
      "metadata": {
        "id": "_oYO02MTCpM_"
      },
      "outputs": [],
      "source": [
        "def detect_anomalies(data, contamination=0.02):\n",
        "    \"\"\"\n",
        "    Detect anomalies using Isolation Forest\n",
        "    \"\"\"\n",
        "    # Select features for anomaly detection\n",
        "    feature_cols = [col for col in data.columns\n",
        "                   if any(x in col for x in ['_rolling_mean', '_rolling_std'])]\n",
        "\n",
        "    # Scale the features\n",
        "    scaler = StandardScaler()\n",
        "    scaled_features = scaler.fit_transform(data[feature_cols])\n",
        "\n",
        "    # Train Isolation Forest\n",
        "    iso_forest = IsolationForest(\n",
        "        n_estimators=100,\n",
        "        contamination=contamination,\n",
        "        random_state=42\n",
        "    )\n",
        "\n",
        "    # Fit and predict\n",
        "    data['anomaly'] = iso_forest.fit_predict(scaled_features)\n",
        "    data['anomaly_score'] = iso_forest.score_samples(scaled_features)\n",
        "\n",
        "    return data, iso_forest"
      ]
    },
    {
      "cell_type": "code",
      "execution_count": 13,
      "metadata": {
        "id": "42_aCyolCrv-"
      },
      "outputs": [],
      "source": [
        "def plot_anomalies(data):\n",
        "    \"\"\"\n",
        "    Create visualizations for the anomaly detection results\n",
        "    \"\"\"\n",
        "    # Create figure with subplots\n",
        "    fig, (ax1, ax2) = plt.subplots(2, 1, figsize=(15, 10))\n",
        "    fig.suptitle('Turbine Performance Anomaly Detection Results', fontsize=16)\n",
        "\n",
        "    # Plot 1: Time series with anomalies\n",
        "    ax1.plot(data['Timestamp'], data['HPC_ASC_Flow_DP'],\n",
        "             color='blue', label='HPC_ASC_Flow_DP', alpha=0.5)\n",
        "\n",
        "    # Highlight anomalies\n",
        "    anomalies = data[data['anomaly'] == -1]\n",
        "    ax1.scatter(anomalies['Timestamp'], anomalies['HPC_ASC_Flow_DP'],\n",
        "                color='red', label='Anomalies')\n",
        "\n",
        "    ax1.set_title('Time Series with Detected Anomalies')\n",
        "    ax1.set_xlabel('Timestamp')\n",
        "    ax1.set_ylabel('HPC_ASC_Flow_DP')\n",
        "    ax1.legend()\n",
        "\n",
        "    # Plot 2: Anomaly scores distribution\n",
        "    sns.histplot(data=data, x='anomaly_score', bins=50, ax=ax2)\n",
        "    ax2.axvline(x=data[data['anomaly'] == -1]['anomaly_score'].max(),\n",
        "                color='red', linestyle='--', label='Anomaly Threshold')\n",
        "    ax2.set_title('Distribution of Anomaly Scores')\n",
        "    ax2.set_xlabel('Anomaly Score')\n",
        "    ax2.set_ylabel('Count')\n",
        "    ax2.legend()\n",
        "\n",
        "    plt.tight_layout()\n",
        "    return fig"
      ]
    },
    {
      "cell_type": "code",
      "execution_count": null,
      "metadata": {
        "id": "HCBKOvfvCtvN"
      },
      "outputs": [],
      "source": [
        "# Main execution\n",
        "def main():\n",
        "    # Load and preprocess data\n",
        "    data = pd.read_csv('D:\\College\\Semester 6 (Magang)\\Model\\Anomaly Detection\\clean_data.csv')  # Replace with your data path\n",
        "    processed_data = preprocess_turbine_data(data)\n",
        "\n",
        "    # Detect anomalies\n",
        "    results, model = detect_anomalies(processed_data)\n",
        "\n",
        "    # Print summary statistics\n",
        "    print(\"\\nAnomaly Detection Results:\")\n",
        "    print(f\"Total samples: {len(results)}\")\n",
        "    print(f\"Number of anomalies: {len(results[results['anomaly'] == -1])}\")\n",
        "    print(f\"Anomaly percentage: {(len(results[results['anomaly'] == -1]) / len(results)) * 100:.2f}%\")\n",
        "\n",
        "    # Create and show plots\n",
        "    fig = plot_anomalies(results)\n",
        "    plt.show()\n",
        "\n",
        "    return results, model"
      ]
    },
    {
      "cell_type": "code",
      "execution_count": 15,
      "metadata": {
        "id": "QvOeHBhuCwEH"
      },
      "outputs": [],
      "source": [
        "from scipy.stats import norm\n",
        "import matplotlib.pyplot as plt\n",
        "import seaborn as sns\n",
        "import numpy as np\n",
        "\n",
        "def plot_anomalies(data):\n",
        "    \"\"\"\n",
        "    Create visualizations for the anomaly detection results, including a scatter plot\n",
        "    of anomaly scores vs. HPC_ASC_Flow_DP.\n",
        "    \"\"\"\n",
        "    # Create figure with subplots\n",
        "    fig, (ax1, ax2, ax3) = plt.subplots(3, 1, figsize=(15, 15))  # Added one more subplot\n",
        "    fig.suptitle('Turbine Performance Anomaly Detection Results', fontsize=16)\n",
        "\n",
        "    # Plot 1: Time series with anomalies\n",
        "    ax1.plot(data['Timestamp'], data['HPC_ASC_Flow_DP'],\n",
        "             color='blue', label='HPC_ASC_Flow_DP', alpha=0.5)\n",
        "\n",
        "    # Highlight anomalies\n",
        "    anomalies = data[data['anomaly'] == -1]\n",
        "    ax1.scatter(anomalies['Timestamp'], anomalies['HPC_ASC_Flow_DP'],\n",
        "                color='red', label='Anomalies')\n",
        "\n",
        "    ax1.set_title('Time Series with Detected Anomalies')\n",
        "    ax1.set_xlabel('Timestamp')\n",
        "    ax1.set_ylabel('HPC_ASC_Flow_DP')\n",
        "    ax1.legend()\n",
        "\n",
        "    # Plot 2: Anomaly scores distribution with Gaussian curve\n",
        "    sns.histplot(data=data, x='anomaly_score', bins=50, ax=ax2, kde=False, stat='density', color='blue', label='Anomaly Scores')\n",
        "\n",
        "    # Fit a normal distribution to the data\n",
        "    mu, std = norm.fit(data['anomaly_score'])\n",
        "\n",
        "    # Plot the fitted Gaussian curve\n",
        "    xmin, xmax = ax2.get_xlim()\n",
        "    x = np.linspace(xmin, xmax, 100)\n",
        "    p = norm.pdf(x, mu, std)\n",
        "    ax2.plot(x, p, 'k', linewidth=2, label=f'Gaussian Fit (μ={mu:.2f}, σ={std:.2f})')\n",
        "\n",
        "    # Add vertical line for anomaly threshold\n",
        "    if not anomalies.empty: # Check if anomalies exist before accessing max\n",
        "        threshold = anomalies['anomaly_score'].max()\n",
        "        ax2.axvline(x=threshold, color='red', linestyle='--', label='Anomaly Threshold')\n",
        "    else:\n",
        "        threshold = None # Or handle it in a way that makes sense in your context\n",
        "\n",
        "    ax2.set_title('Distribution of Anomaly Scores with Gaussian Fit')\n",
        "    ax2.set_xlabel('Anomaly Score')\n",
        "    ax2.set_ylabel('Density')\n",
        "    ax2.legend()\n",
        "\n",
        "    # Plot 3: Scatter plot of Anomaly Score vs. HPC_ASC_Flow_DP\n",
        "    ax3.scatter(data['anomaly_score'], data['HPC_ASC_Flow_DP'], c=data['anomaly'].map({1: 'blue', -1: 'red'}), label='Data Points')\n",
        "    ax3.set_title('Anomaly Score vs. HPC_ASC_Flow_DP')\n",
        "    ax3.set_xlabel('Anomaly Score')\n",
        "    ax3.set_ylabel('HPC_ASC_Flow_DP')\n",
        "    if threshold is not None:\n",
        "        ax3.axvline(x=threshold, color='red', linestyle='--', label='Anomaly Threshold') # Add the threshold line here as well\n",
        "    ax3.legend()\n",
        "\n",
        "    plt.tight_layout()\n",
        "    return fig"
      ]
    },
    {
      "cell_type": "code",
      "execution_count": 16,
      "metadata": {
        "colab": {
          "base_uri": "https://localhost:8080/",
          "height": 1000
        },
        "id": "dq5bcQC0GyK3",
        "outputId": "7e9abb80-7d3c-487d-bb95-fd1df621568a"
      },
      "outputs": [
        {
          "ename": "FileNotFoundError",
          "evalue": "[Errno 2] No such file or directory: '/content/drive/MyDrive/Magang/Dataset/clean_data.csv'",
          "output_type": "error",
          "traceback": [
            "\u001b[1;31m---------------------------------------------------------------------------\u001b[0m",
            "\u001b[1;31mFileNotFoundError\u001b[0m                         Traceback (most recent call last)",
            "Cell \u001b[1;32mIn[16], line 2\u001b[0m\n\u001b[0;32m      1\u001b[0m \u001b[38;5;28;01mif\u001b[39;00m \u001b[38;5;18m__name__\u001b[39m \u001b[38;5;241m==\u001b[39m \u001b[38;5;124m\"\u001b[39m\u001b[38;5;124m__main__\u001b[39m\u001b[38;5;124m\"\u001b[39m:\n\u001b[1;32m----> 2\u001b[0m     results, model \u001b[38;5;241m=\u001b[39m \u001b[43mmain\u001b[49m\u001b[43m(\u001b[49m\u001b[43m)\u001b[49m\n",
            "Cell \u001b[1;32mIn[14], line 4\u001b[0m, in \u001b[0;36mmain\u001b[1;34m()\u001b[0m\n\u001b[0;32m      2\u001b[0m \u001b[38;5;28;01mdef\u001b[39;00m\u001b[38;5;250m \u001b[39m\u001b[38;5;21mmain\u001b[39m():\n\u001b[0;32m      3\u001b[0m     \u001b[38;5;66;03m# Load and preprocess data\u001b[39;00m\n\u001b[1;32m----> 4\u001b[0m     data \u001b[38;5;241m=\u001b[39m \u001b[43mpd\u001b[49m\u001b[38;5;241;43m.\u001b[39;49m\u001b[43mread_csv\u001b[49m\u001b[43m(\u001b[49m\u001b[38;5;124;43m'\u001b[39;49m\u001b[38;5;124;43m/content/drive/MyDrive/Magang/Dataset/clean_data.csv\u001b[39;49m\u001b[38;5;124;43m'\u001b[39;49m\u001b[43m)\u001b[49m  \u001b[38;5;66;03m# Replace with your data path\u001b[39;00m\n\u001b[0;32m      5\u001b[0m     processed_data \u001b[38;5;241m=\u001b[39m preprocess_turbine_data(data)\n\u001b[0;32m      7\u001b[0m     \u001b[38;5;66;03m# Detect anomalies\u001b[39;00m\n",
            "File \u001b[1;32md:\\College\\Semester 6 (Magang)\\Model\\Anomaly Detection\\venv\\lib\\site-packages\\pandas\\io\\parsers\\readers.py:1026\u001b[0m, in \u001b[0;36mread_csv\u001b[1;34m(filepath_or_buffer, sep, delimiter, header, names, index_col, usecols, dtype, engine, converters, true_values, false_values, skipinitialspace, skiprows, skipfooter, nrows, na_values, keep_default_na, na_filter, verbose, skip_blank_lines, parse_dates, infer_datetime_format, keep_date_col, date_parser, date_format, dayfirst, cache_dates, iterator, chunksize, compression, thousands, decimal, lineterminator, quotechar, quoting, doublequote, escapechar, comment, encoding, encoding_errors, dialect, on_bad_lines, delim_whitespace, low_memory, memory_map, float_precision, storage_options, dtype_backend)\u001b[0m\n\u001b[0;32m   1013\u001b[0m kwds_defaults \u001b[38;5;241m=\u001b[39m _refine_defaults_read(\n\u001b[0;32m   1014\u001b[0m     dialect,\n\u001b[0;32m   1015\u001b[0m     delimiter,\n\u001b[1;32m   (...)\u001b[0m\n\u001b[0;32m   1022\u001b[0m     dtype_backend\u001b[38;5;241m=\u001b[39mdtype_backend,\n\u001b[0;32m   1023\u001b[0m )\n\u001b[0;32m   1024\u001b[0m kwds\u001b[38;5;241m.\u001b[39mupdate(kwds_defaults)\n\u001b[1;32m-> 1026\u001b[0m \u001b[38;5;28;01mreturn\u001b[39;00m \u001b[43m_read\u001b[49m\u001b[43m(\u001b[49m\u001b[43mfilepath_or_buffer\u001b[49m\u001b[43m,\u001b[49m\u001b[43m \u001b[49m\u001b[43mkwds\u001b[49m\u001b[43m)\u001b[49m\n",
            "File \u001b[1;32md:\\College\\Semester 6 (Magang)\\Model\\Anomaly Detection\\venv\\lib\\site-packages\\pandas\\io\\parsers\\readers.py:620\u001b[0m, in \u001b[0;36m_read\u001b[1;34m(filepath_or_buffer, kwds)\u001b[0m\n\u001b[0;32m    617\u001b[0m _validate_names(kwds\u001b[38;5;241m.\u001b[39mget(\u001b[38;5;124m\"\u001b[39m\u001b[38;5;124mnames\u001b[39m\u001b[38;5;124m\"\u001b[39m, \u001b[38;5;28;01mNone\u001b[39;00m))\n\u001b[0;32m    619\u001b[0m \u001b[38;5;66;03m# Create the parser.\u001b[39;00m\n\u001b[1;32m--> 620\u001b[0m parser \u001b[38;5;241m=\u001b[39m TextFileReader(filepath_or_buffer, \u001b[38;5;241m*\u001b[39m\u001b[38;5;241m*\u001b[39mkwds)\n\u001b[0;32m    622\u001b[0m \u001b[38;5;28;01mif\u001b[39;00m chunksize \u001b[38;5;129;01mor\u001b[39;00m iterator:\n\u001b[0;32m    623\u001b[0m     \u001b[38;5;28;01mreturn\u001b[39;00m parser\n",
            "File \u001b[1;32md:\\College\\Semester 6 (Magang)\\Model\\Anomaly Detection\\venv\\lib\\site-packages\\pandas\\io\\parsers\\readers.py:1620\u001b[0m, in \u001b[0;36mTextFileReader.__init__\u001b[1;34m(self, f, engine, **kwds)\u001b[0m\n\u001b[0;32m   1617\u001b[0m     \u001b[38;5;28mself\u001b[39m\u001b[38;5;241m.\u001b[39moptions[\u001b[38;5;124m\"\u001b[39m\u001b[38;5;124mhas_index_names\u001b[39m\u001b[38;5;124m\"\u001b[39m] \u001b[38;5;241m=\u001b[39m kwds[\u001b[38;5;124m\"\u001b[39m\u001b[38;5;124mhas_index_names\u001b[39m\u001b[38;5;124m\"\u001b[39m]\n\u001b[0;32m   1619\u001b[0m \u001b[38;5;28mself\u001b[39m\u001b[38;5;241m.\u001b[39mhandles: IOHandles \u001b[38;5;241m|\u001b[39m \u001b[38;5;28;01mNone\u001b[39;00m \u001b[38;5;241m=\u001b[39m \u001b[38;5;28;01mNone\u001b[39;00m\n\u001b[1;32m-> 1620\u001b[0m \u001b[38;5;28mself\u001b[39m\u001b[38;5;241m.\u001b[39m_engine \u001b[38;5;241m=\u001b[39m \u001b[38;5;28;43mself\u001b[39;49m\u001b[38;5;241;43m.\u001b[39;49m\u001b[43m_make_engine\u001b[49m\u001b[43m(\u001b[49m\u001b[43mf\u001b[49m\u001b[43m,\u001b[49m\u001b[43m \u001b[49m\u001b[38;5;28;43mself\u001b[39;49m\u001b[38;5;241;43m.\u001b[39;49m\u001b[43mengine\u001b[49m\u001b[43m)\u001b[49m\n",
            "File \u001b[1;32md:\\College\\Semester 6 (Magang)\\Model\\Anomaly Detection\\venv\\lib\\site-packages\\pandas\\io\\parsers\\readers.py:1880\u001b[0m, in \u001b[0;36mTextFileReader._make_engine\u001b[1;34m(self, f, engine)\u001b[0m\n\u001b[0;32m   1878\u001b[0m     \u001b[38;5;28;01mif\u001b[39;00m \u001b[38;5;124m\"\u001b[39m\u001b[38;5;124mb\u001b[39m\u001b[38;5;124m\"\u001b[39m \u001b[38;5;129;01mnot\u001b[39;00m \u001b[38;5;129;01min\u001b[39;00m mode:\n\u001b[0;32m   1879\u001b[0m         mode \u001b[38;5;241m+\u001b[39m\u001b[38;5;241m=\u001b[39m \u001b[38;5;124m\"\u001b[39m\u001b[38;5;124mb\u001b[39m\u001b[38;5;124m\"\u001b[39m\n\u001b[1;32m-> 1880\u001b[0m \u001b[38;5;28mself\u001b[39m\u001b[38;5;241m.\u001b[39mhandles \u001b[38;5;241m=\u001b[39m \u001b[43mget_handle\u001b[49m\u001b[43m(\u001b[49m\n\u001b[0;32m   1881\u001b[0m \u001b[43m    \u001b[49m\u001b[43mf\u001b[49m\u001b[43m,\u001b[49m\n\u001b[0;32m   1882\u001b[0m \u001b[43m    \u001b[49m\u001b[43mmode\u001b[49m\u001b[43m,\u001b[49m\n\u001b[0;32m   1883\u001b[0m \u001b[43m    \u001b[49m\u001b[43mencoding\u001b[49m\u001b[38;5;241;43m=\u001b[39;49m\u001b[38;5;28;43mself\u001b[39;49m\u001b[38;5;241;43m.\u001b[39;49m\u001b[43moptions\u001b[49m\u001b[38;5;241;43m.\u001b[39;49m\u001b[43mget\u001b[49m\u001b[43m(\u001b[49m\u001b[38;5;124;43m\"\u001b[39;49m\u001b[38;5;124;43mencoding\u001b[39;49m\u001b[38;5;124;43m\"\u001b[39;49m\u001b[43m,\u001b[49m\u001b[43m \u001b[49m\u001b[38;5;28;43;01mNone\u001b[39;49;00m\u001b[43m)\u001b[49m\u001b[43m,\u001b[49m\n\u001b[0;32m   1884\u001b[0m \u001b[43m    \u001b[49m\u001b[43mcompression\u001b[49m\u001b[38;5;241;43m=\u001b[39;49m\u001b[38;5;28;43mself\u001b[39;49m\u001b[38;5;241;43m.\u001b[39;49m\u001b[43moptions\u001b[49m\u001b[38;5;241;43m.\u001b[39;49m\u001b[43mget\u001b[49m\u001b[43m(\u001b[49m\u001b[38;5;124;43m\"\u001b[39;49m\u001b[38;5;124;43mcompression\u001b[39;49m\u001b[38;5;124;43m\"\u001b[39;49m\u001b[43m,\u001b[49m\u001b[43m \u001b[49m\u001b[38;5;28;43;01mNone\u001b[39;49;00m\u001b[43m)\u001b[49m\u001b[43m,\u001b[49m\n\u001b[0;32m   1885\u001b[0m \u001b[43m    \u001b[49m\u001b[43mmemory_map\u001b[49m\u001b[38;5;241;43m=\u001b[39;49m\u001b[38;5;28;43mself\u001b[39;49m\u001b[38;5;241;43m.\u001b[39;49m\u001b[43moptions\u001b[49m\u001b[38;5;241;43m.\u001b[39;49m\u001b[43mget\u001b[49m\u001b[43m(\u001b[49m\u001b[38;5;124;43m\"\u001b[39;49m\u001b[38;5;124;43mmemory_map\u001b[39;49m\u001b[38;5;124;43m\"\u001b[39;49m\u001b[43m,\u001b[49m\u001b[43m \u001b[49m\u001b[38;5;28;43;01mFalse\u001b[39;49;00m\u001b[43m)\u001b[49m\u001b[43m,\u001b[49m\n\u001b[0;32m   1886\u001b[0m \u001b[43m    \u001b[49m\u001b[43mis_text\u001b[49m\u001b[38;5;241;43m=\u001b[39;49m\u001b[43mis_text\u001b[49m\u001b[43m,\u001b[49m\n\u001b[0;32m   1887\u001b[0m \u001b[43m    \u001b[49m\u001b[43merrors\u001b[49m\u001b[38;5;241;43m=\u001b[39;49m\u001b[38;5;28;43mself\u001b[39;49m\u001b[38;5;241;43m.\u001b[39;49m\u001b[43moptions\u001b[49m\u001b[38;5;241;43m.\u001b[39;49m\u001b[43mget\u001b[49m\u001b[43m(\u001b[49m\u001b[38;5;124;43m\"\u001b[39;49m\u001b[38;5;124;43mencoding_errors\u001b[39;49m\u001b[38;5;124;43m\"\u001b[39;49m\u001b[43m,\u001b[49m\u001b[43m \u001b[49m\u001b[38;5;124;43m\"\u001b[39;49m\u001b[38;5;124;43mstrict\u001b[39;49m\u001b[38;5;124;43m\"\u001b[39;49m\u001b[43m)\u001b[49m\u001b[43m,\u001b[49m\n\u001b[0;32m   1888\u001b[0m \u001b[43m    \u001b[49m\u001b[43mstorage_options\u001b[49m\u001b[38;5;241;43m=\u001b[39;49m\u001b[38;5;28;43mself\u001b[39;49m\u001b[38;5;241;43m.\u001b[39;49m\u001b[43moptions\u001b[49m\u001b[38;5;241;43m.\u001b[39;49m\u001b[43mget\u001b[49m\u001b[43m(\u001b[49m\u001b[38;5;124;43m\"\u001b[39;49m\u001b[38;5;124;43mstorage_options\u001b[39;49m\u001b[38;5;124;43m\"\u001b[39;49m\u001b[43m,\u001b[49m\u001b[43m \u001b[49m\u001b[38;5;28;43;01mNone\u001b[39;49;00m\u001b[43m)\u001b[49m\u001b[43m,\u001b[49m\n\u001b[0;32m   1889\u001b[0m \u001b[43m\u001b[49m\u001b[43m)\u001b[49m\n\u001b[0;32m   1890\u001b[0m \u001b[38;5;28;01massert\u001b[39;00m \u001b[38;5;28mself\u001b[39m\u001b[38;5;241m.\u001b[39mhandles \u001b[38;5;129;01mis\u001b[39;00m \u001b[38;5;129;01mnot\u001b[39;00m \u001b[38;5;28;01mNone\u001b[39;00m\n\u001b[0;32m   1891\u001b[0m f \u001b[38;5;241m=\u001b[39m \u001b[38;5;28mself\u001b[39m\u001b[38;5;241m.\u001b[39mhandles\u001b[38;5;241m.\u001b[39mhandle\n",
            "File \u001b[1;32md:\\College\\Semester 6 (Magang)\\Model\\Anomaly Detection\\venv\\lib\\site-packages\\pandas\\io\\common.py:873\u001b[0m, in \u001b[0;36mget_handle\u001b[1;34m(path_or_buf, mode, encoding, compression, memory_map, is_text, errors, storage_options)\u001b[0m\n\u001b[0;32m    868\u001b[0m \u001b[38;5;28;01melif\u001b[39;00m \u001b[38;5;28misinstance\u001b[39m(handle, \u001b[38;5;28mstr\u001b[39m):\n\u001b[0;32m    869\u001b[0m     \u001b[38;5;66;03m# Check whether the filename is to be opened in binary mode.\u001b[39;00m\n\u001b[0;32m    870\u001b[0m     \u001b[38;5;66;03m# Binary mode does not support 'encoding' and 'newline'.\u001b[39;00m\n\u001b[0;32m    871\u001b[0m     \u001b[38;5;28;01mif\u001b[39;00m ioargs\u001b[38;5;241m.\u001b[39mencoding \u001b[38;5;129;01mand\u001b[39;00m \u001b[38;5;124m\"\u001b[39m\u001b[38;5;124mb\u001b[39m\u001b[38;5;124m\"\u001b[39m \u001b[38;5;129;01mnot\u001b[39;00m \u001b[38;5;129;01min\u001b[39;00m ioargs\u001b[38;5;241m.\u001b[39mmode:\n\u001b[0;32m    872\u001b[0m         \u001b[38;5;66;03m# Encoding\u001b[39;00m\n\u001b[1;32m--> 873\u001b[0m         handle \u001b[38;5;241m=\u001b[39m \u001b[38;5;28;43mopen\u001b[39;49m\u001b[43m(\u001b[49m\n\u001b[0;32m    874\u001b[0m \u001b[43m            \u001b[49m\u001b[43mhandle\u001b[49m\u001b[43m,\u001b[49m\n\u001b[0;32m    875\u001b[0m \u001b[43m            \u001b[49m\u001b[43mioargs\u001b[49m\u001b[38;5;241;43m.\u001b[39;49m\u001b[43mmode\u001b[49m\u001b[43m,\u001b[49m\n\u001b[0;32m    876\u001b[0m \u001b[43m            \u001b[49m\u001b[43mencoding\u001b[49m\u001b[38;5;241;43m=\u001b[39;49m\u001b[43mioargs\u001b[49m\u001b[38;5;241;43m.\u001b[39;49m\u001b[43mencoding\u001b[49m\u001b[43m,\u001b[49m\n\u001b[0;32m    877\u001b[0m \u001b[43m            \u001b[49m\u001b[43merrors\u001b[49m\u001b[38;5;241;43m=\u001b[39;49m\u001b[43merrors\u001b[49m\u001b[43m,\u001b[49m\n\u001b[0;32m    878\u001b[0m \u001b[43m            \u001b[49m\u001b[43mnewline\u001b[49m\u001b[38;5;241;43m=\u001b[39;49m\u001b[38;5;124;43m\"\u001b[39;49m\u001b[38;5;124;43m\"\u001b[39;49m\u001b[43m,\u001b[49m\n\u001b[0;32m    879\u001b[0m \u001b[43m        \u001b[49m\u001b[43m)\u001b[49m\n\u001b[0;32m    880\u001b[0m     \u001b[38;5;28;01melse\u001b[39;00m:\n\u001b[0;32m    881\u001b[0m         \u001b[38;5;66;03m# Binary mode\u001b[39;00m\n\u001b[0;32m    882\u001b[0m         handle \u001b[38;5;241m=\u001b[39m \u001b[38;5;28mopen\u001b[39m(handle, ioargs\u001b[38;5;241m.\u001b[39mmode)\n",
            "\u001b[1;31mFileNotFoundError\u001b[0m: [Errno 2] No such file or directory: '/content/drive/MyDrive/Magang/Dataset/clean_data.csv'"
          ]
        }
      ],
      "source": [
        "if __name__ == \"__main__\":\n",
        "    results, model = main()"
      ]
    }
  ],
  "metadata": {
    "accelerator": "TPU",
    "colab": {
      "gpuType": "V28",
      "provenance": []
    },
    "kernelspec": {
      "display_name": "anonmaly_detection_kernel",
      "language": "python",
      "name": "anonmaly_detection_kernel"
    },
    "language_info": {
      "codemirror_mode": {
        "name": "ipython",
        "version": 3
      },
      "file_extension": ".py",
      "mimetype": "text/x-python",
      "name": "python",
      "nbconvert_exporter": "python",
      "pygments_lexer": "ipython3",
      "version": "3.10.11"
    }
  },
  "nbformat": 4,
  "nbformat_minor": 0
}
